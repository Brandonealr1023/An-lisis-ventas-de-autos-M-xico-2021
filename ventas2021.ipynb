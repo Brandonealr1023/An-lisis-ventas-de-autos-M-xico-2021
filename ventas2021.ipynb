{
 "cells": [
  {
   "cell_type": "markdown",
   "metadata": {},
   "source": [
    "Panorama del sector automotriz 2021"
   ]
  },
  {
   "cell_type": "code",
   "execution_count": 2,
   "metadata": {},
   "outputs": [],
   "source": [
    "import pandas as pd\n",
    "import numpy as np\n",
    "import matplotlib as plot\n"
   ]
  },
  {
   "cell_type": "code",
   "execution_count": 3,
   "metadata": {},
   "outputs": [],
   "source": [
    "Ventas_2021 = pd.read_csv('/home/brandonealr/Desktop/Ventas de autos/raiavl_mensual_venta_csv/conjunto_de_datos/raiavl_venta_mensual_tr_cifra_2021.csv')"
   ]
  },
  {
   "cell_type": "code",
   "execution_count": 4,
   "metadata": {},
   "outputs": [
    {
     "data": {
      "text/html": [
       "<div>\n",
       "<style scoped>\n",
       "    .dataframe tbody tr th:only-of-type {\n",
       "        vertical-align: middle;\n",
       "    }\n",
       "\n",
       "    .dataframe tbody tr th {\n",
       "        vertical-align: top;\n",
       "    }\n",
       "\n",
       "    .dataframe thead th {\n",
       "        text-align: right;\n",
       "    }\n",
       "</style>\n",
       "<table border=\"1\" class=\"dataframe\">\n",
       "  <thead>\n",
       "    <tr style=\"text-align: right;\">\n",
       "      <th></th>\n",
       "      <th>PROD_EST</th>\n",
       "      <th>COBERTURA</th>\n",
       "      <th>ANIO</th>\n",
       "      <th>ID_MES</th>\n",
       "      <th>MARCA</th>\n",
       "      <th>MODELO</th>\n",
       "      <th>TIPO</th>\n",
       "      <th>SEGMENTO</th>\n",
       "      <th>ORIGEN</th>\n",
       "      <th>ID_PAIS_ORIGEN</th>\n",
       "      <th>UNI_VEH</th>\n",
       "    </tr>\n",
       "  </thead>\n",
       "  <tbody>\n",
       "    <tr>\n",
       "      <th>1268</th>\n",
       "      <td>Registro Administrativo de la Industria Automo...</td>\n",
       "      <td>Nacional</td>\n",
       "      <td>2021</td>\n",
       "      <td>3</td>\n",
       "      <td>Nissan</td>\n",
       "      <td>Versa</td>\n",
       "      <td>Automóviles</td>\n",
       "      <td>Compactos</td>\n",
       "      <td>NACIONAL</td>\n",
       "      <td>1</td>\n",
       "      <td>7124</td>\n",
       "    </tr>\n",
       "    <tr>\n",
       "      <th>1718</th>\n",
       "      <td>Registro Administrativo de la Industria Automo...</td>\n",
       "      <td>Nacional</td>\n",
       "      <td>2021</td>\n",
       "      <td>4</td>\n",
       "      <td>Nissan</td>\n",
       "      <td>Versa</td>\n",
       "      <td>Automóviles</td>\n",
       "      <td>Compactos</td>\n",
       "      <td>NACIONAL</td>\n",
       "      <td>1</td>\n",
       "      <td>6443</td>\n",
       "    </tr>\n",
       "    <tr>\n",
       "      <th>4375</th>\n",
       "      <td>Registro Administrativo de la Industria Automo...</td>\n",
       "      <td>Nacional</td>\n",
       "      <td>2021</td>\n",
       "      <td>10</td>\n",
       "      <td>Nissan</td>\n",
       "      <td>Versa</td>\n",
       "      <td>Automóviles</td>\n",
       "      <td>Compactos</td>\n",
       "      <td>NACIONAL</td>\n",
       "      <td>1</td>\n",
       "      <td>6418</td>\n",
       "    </tr>\n",
       "    <tr>\n",
       "      <th>3478</th>\n",
       "      <td>Registro Administrativo de la Industria Automo...</td>\n",
       "      <td>Nacional</td>\n",
       "      <td>2021</td>\n",
       "      <td>8</td>\n",
       "      <td>Nissan</td>\n",
       "      <td>Versa</td>\n",
       "      <td>Automóviles</td>\n",
       "      <td>Compactos</td>\n",
       "      <td>NACIONAL</td>\n",
       "      <td>1</td>\n",
       "      <td>6304</td>\n",
       "    </tr>\n",
       "    <tr>\n",
       "      <th>3920</th>\n",
       "      <td>Registro Administrativo de la Industria Automo...</td>\n",
       "      <td>Nacional</td>\n",
       "      <td>2021</td>\n",
       "      <td>9</td>\n",
       "      <td>Nissan</td>\n",
       "      <td>Versa</td>\n",
       "      <td>Automóviles</td>\n",
       "      <td>Compactos</td>\n",
       "      <td>NACIONAL</td>\n",
       "      <td>1</td>\n",
       "      <td>6139</td>\n",
       "    </tr>\n",
       "    <tr>\n",
       "      <th>...</th>\n",
       "      <td>...</td>\n",
       "      <td>...</td>\n",
       "      <td>...</td>\n",
       "      <td>...</td>\n",
       "      <td>...</td>\n",
       "      <td>...</td>\n",
       "      <td>...</td>\n",
       "      <td>...</td>\n",
       "      <td>...</td>\n",
       "      <td>...</td>\n",
       "      <td>...</td>\n",
       "    </tr>\n",
       "    <tr>\n",
       "      <th>2264</th>\n",
       "      <td>Registro Administrativo de la Industria Automo...</td>\n",
       "      <td>Nacional</td>\n",
       "      <td>2021</td>\n",
       "      <td>5</td>\n",
       "      <td>Volkswagen</td>\n",
       "      <td>Passat</td>\n",
       "      <td>Automóviles</td>\n",
       "      <td>De Lujo</td>\n",
       "      <td>IMPORTADO</td>\n",
       "      <td>66</td>\n",
       "      <td>0</td>\n",
       "    </tr>\n",
       "    <tr>\n",
       "      <th>4318</th>\n",
       "      <td>Registro Administrativo de la Industria Automo...</td>\n",
       "      <td>Nacional</td>\n",
       "      <td>2021</td>\n",
       "      <td>10</td>\n",
       "      <td>Mercedes Benz</td>\n",
       "      <td>SLC</td>\n",
       "      <td>Automóviles</td>\n",
       "      <td>De Lujo</td>\n",
       "      <td>IMPORTADO</td>\n",
       "      <td>4</td>\n",
       "      <td>0</td>\n",
       "    </tr>\n",
       "    <tr>\n",
       "      <th>2271</th>\n",
       "      <td>Registro Administrativo de la Industria Automo...</td>\n",
       "      <td>Nacional</td>\n",
       "      <td>2021</td>\n",
       "      <td>5</td>\n",
       "      <td>Volkswagen</td>\n",
       "      <td>Touareg</td>\n",
       "      <td>Camiones ligeros</td>\n",
       "      <td>SUV's</td>\n",
       "      <td>IMPORTADO</td>\n",
       "      <td>62</td>\n",
       "      <td>0</td>\n",
       "    </tr>\n",
       "    <tr>\n",
       "      <th>2693</th>\n",
       "      <td>Registro Administrativo de la Industria Automo...</td>\n",
       "      <td>Nacional</td>\n",
       "      <td>2021</td>\n",
       "      <td>6</td>\n",
       "      <td>Toyota</td>\n",
       "      <td>Yaris-R</td>\n",
       "      <td>Automóviles</td>\n",
       "      <td>Subcompactos</td>\n",
       "      <td>NACIONAL</td>\n",
       "      <td>1</td>\n",
       "      <td>0</td>\n",
       "    </tr>\n",
       "    <tr>\n",
       "      <th>4128</th>\n",
       "      <td>Registro Administrativo de la Industria Automo...</td>\n",
       "      <td>Nacional</td>\n",
       "      <td>2021</td>\n",
       "      <td>10</td>\n",
       "      <td>General Motors</td>\n",
       "      <td>Bolt</td>\n",
       "      <td>Automóviles</td>\n",
       "      <td>Subcompactos</td>\n",
       "      <td>IMPORTADO</td>\n",
       "      <td>66</td>\n",
       "      <td>-1</td>\n",
       "    </tr>\n",
       "  </tbody>\n",
       "</table>\n",
       "<p>5387 rows × 11 columns</p>\n",
       "</div>"
      ],
      "text/plain": [
       "                                               PROD_EST COBERTURA  ANIO  \\\n",
       "1268  Registro Administrativo de la Industria Automo...  Nacional  2021   \n",
       "1718  Registro Administrativo de la Industria Automo...  Nacional  2021   \n",
       "4375  Registro Administrativo de la Industria Automo...  Nacional  2021   \n",
       "3478  Registro Administrativo de la Industria Automo...  Nacional  2021   \n",
       "3920  Registro Administrativo de la Industria Automo...  Nacional  2021   \n",
       "...                                                 ...       ...   ...   \n",
       "2264  Registro Administrativo de la Industria Automo...  Nacional  2021   \n",
       "4318  Registro Administrativo de la Industria Automo...  Nacional  2021   \n",
       "2271  Registro Administrativo de la Industria Automo...  Nacional  2021   \n",
       "2693  Registro Administrativo de la Industria Automo...  Nacional  2021   \n",
       "4128  Registro Administrativo de la Industria Automo...  Nacional  2021   \n",
       "\n",
       "      ID_MES           MARCA   MODELO              TIPO      SEGMENTO  \\\n",
       "1268       3          Nissan    Versa       Automóviles     Compactos   \n",
       "1718       4          Nissan    Versa       Automóviles     Compactos   \n",
       "4375      10          Nissan    Versa       Automóviles     Compactos   \n",
       "3478       8          Nissan    Versa       Automóviles     Compactos   \n",
       "3920       9          Nissan    Versa       Automóviles     Compactos   \n",
       "...      ...             ...      ...               ...           ...   \n",
       "2264       5      Volkswagen   Passat       Automóviles       De Lujo   \n",
       "4318      10   Mercedes Benz      SLC       Automóviles       De Lujo   \n",
       "2271       5      Volkswagen  Touareg  Camiones ligeros         SUV's   \n",
       "2693       6          Toyota  Yaris-R       Automóviles  Subcompactos   \n",
       "4128      10  General Motors     Bolt       Automóviles  Subcompactos   \n",
       "\n",
       "         ORIGEN  ID_PAIS_ORIGEN  UNI_VEH  \n",
       "1268   NACIONAL               1     7124  \n",
       "1718   NACIONAL               1     6443  \n",
       "4375   NACIONAL               1     6418  \n",
       "3478   NACIONAL               1     6304  \n",
       "3920   NACIONAL               1     6139  \n",
       "...         ...             ...      ...  \n",
       "2264  IMPORTADO              66        0  \n",
       "4318  IMPORTADO               4        0  \n",
       "2271  IMPORTADO              62        0  \n",
       "2693   NACIONAL               1        0  \n",
       "4128  IMPORTADO              66       -1  \n",
       "\n",
       "[5387 rows x 11 columns]"
      ]
     },
     "execution_count": 4,
     "metadata": {},
     "output_type": "execute_result"
    }
   ],
   "source": [
    "Ventas_2021.sort_values(by='UNI_VEH', ascending=False)"
   ]
  },
  {
   "cell_type": "markdown",
   "metadata": {},
   "source": [
    "Ventas de Autos en México por marca"
   ]
  },
  {
   "cell_type": "code",
   "execution_count": 15,
   "metadata": {},
   "outputs": [
    {
     "name": "stdout",
     "output_type": "stream",
     "text": [
      "                UNI_VEH\n",
      "MARCA                  \n",
      "Nissan           203918\n",
      "General Motors   127300\n",
      "Volkswagen        98436\n",
      "Toyota            91090\n",
      "KIA               82040\n",
      "Chrysler          47164\n",
      "Mazda             46901\n",
      "Honda             42819\n",
      "Ford Motor        40763\n",
      "Hyundai           37209\n",
      "Suzuki            33044\n",
      "Renault           28218\n",
      "SEAT              20942\n",
      "Mitsubishi        17872\n",
      "MG Motor          16358\n",
      "Mercedes Benz     13751\n",
      "BMW               12895\n",
      "Peugeot           11353\n",
      "Audi               9416\n",
      "JAC                8203\n"
     ]
    },
    {
     "data": {
      "text/plain": [
       "<AxesSubplot:ylabel='MARCA'>"
      ]
     },
     "execution_count": 15,
     "metadata": {},
     "output_type": "execute_result"
    },
    {
     "data": {
      "image/png": "[encoded data removed]",
      "text/plain": [
       "<Figure size 432x288 with 1 Axes>"
      ]
     },
     "metadata": {
      "needs_background": "light"
     },
     "output_type": "display_data"
    }
   ],
   "source": [
    "print(Ventas_2021.groupby('MARCA')[['UNI_VEH']].sum().sort_values(by='UNI_VEH', ascending=False).head(20))\n",
    "Ventas_2021.groupby('MARCA')[['UNI_VEH']].sum().sort_values(by='UNI_VEH', ascending=False).head(15).plot(kind = 'barh')"
   ]
  },
  {
   "cell_type": "code",
   "execution_count": 16,
   "metadata": {},
   "outputs": [
    {
     "name": "stdout",
     "output_type": "stream",
     "text": [
      "              UNI_VEH\n",
      "SEGMENTO             \n",
      "SUV's          318521\n",
      "Subcompactos   283849\n",
      "Compactos      202332\n",
      "Pick Ups       161438\n",
      "De Lujo         28655\n",
      "Minivans        14664\n",
      "Deportivos       5276\n"
     ]
    },
    {
     "data": {
      "text/plain": [
       "<AxesSubplot:ylabel='SEGMENTO'>"
      ]
     },
     "execution_count": 16,
     "metadata": {},
     "output_type": "execute_result"
    },
    {
     "data": {
      "image/png": "[encoded data removed]",
      "text/plain": [
       "<Figure size 432x288 with 1 Axes>"
      ]
     },
     "metadata": {
      "needs_background": "light"
     },
     "output_type": "display_data"
    }
   ],
   "source": [
    "print(Ventas_2021.groupby('SEGMENTO')[['UNI_VEH']].sum().sort_values(by='UNI_VEH', ascending=False))\n",
    "Ventas_2021.groupby('SEGMENTO')[['UNI_VEH']].sum().sort_values(by='UNI_VEH', ascending=False).plot(kind = 'barh')"
   ]
  },
  {
   "cell_type": "code",
   "execution_count": 18,
   "metadata": {},
   "outputs": [
    {
     "name": "stdout",
     "output_type": "stream",
     "text": [
      "                UNI_VEH\n",
      "MODELO                 \n",
      "Versa             69775\n",
      "NP300             47884\n",
      "Aveo              37039\n",
      "March             34974\n",
      "Vento             29380\n",
      "KIA Río Sedan-    25369\n",
      "Sentra            22469\n",
      "Hilux Dc          16635\n",
      "Forte-            14380\n",
      "Seltos            14080\n",
      "Kicks             13988\n",
      "Beat 4 PTAS.      13640\n",
      "HR-V-             12768\n",
      "Onix              12362\n",
      "Rav4              11731\n",
      "CR-V              11537\n",
      "Kwid              11368\n",
      "Captiva SUV       10761\n",
      "Ibiza 4 Ptas      10660\n",
      "Tracker           10389\n"
     ]
    },
    {
     "data": {
      "text/plain": [
       "<AxesSubplot:ylabel='MODELO'>"
      ]
     },
     "execution_count": 18,
     "metadata": {},
     "output_type": "execute_result"
    },
    {
     "data": {
      "image/png": "[encoded data removed]",
      "text/plain": [
       "<Figure size 432x288 with 1 Axes>"
      ]
     },
     "metadata": {
      "needs_background": "light"
     },
     "output_type": "display_data"
    }
   ],
   "source": [
    "Ventas_Modelo = Ventas_2021.groupby('MODELO')[['UNI_VEH']].sum().sort_values(by='UNI_VEH', ascending=False)\n",
    "print(Ventas_Modelo.head(20))\n",
    "Ventas_Modelo.head(15).plot(kind='barh')"
   ]
  }
 ],
 "metadata": {
  "kernelspec": {
   "display_name": "Python 3.10.6 64-bit",
   "language": "python",
   "name": "python3"
  },
  "language_info": {
   "codemirror_mode": {
    "name": "ipython",
    "version": 3
   },
   "file_extension": ".py",
   "mimetype": "text/x-python",
   "name": "python",
   "nbconvert_exporter": "python",
   "pygments_lexer": "ipython3",
   "version": "3.10.6"
  },
  "orig_nbformat": 4,
  "vscode": {
   "interpreter": {
    "hash": "31f2aee4e71d21fbe5cf8b01ff0e069b9275f58929596ceb00d14d90e3e16cd6"
   }
  }
 },
 "nbformat": 4,
 "nbformat_minor": 2
}
